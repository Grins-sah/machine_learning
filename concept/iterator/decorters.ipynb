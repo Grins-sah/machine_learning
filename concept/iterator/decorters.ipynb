{
 "cells": [
  {
   "cell_type": "markdown",
   "metadata": {},
   "source": [
    "### decorater\n",
    "### function copy"
   ]
  },
  {
   "cell_type": "code",
   "execution_count": 15,
   "metadata": {},
   "outputs": [
    {
     "name": "stdout",
     "output_type": "stream",
     "text": [
      "welcome to advanced python class\n"
     ]
    }
   ],
   "source": [
    "def welcome():\n",
    "    print(\"welcome to advanced python class\")\n",
    "welcome()"
   ]
  },
  {
   "cell_type": "code",
   "execution_count": 16,
   "metadata": {},
   "outputs": [
    {
     "name": "stdout",
     "output_type": "stream",
     "text": [
      "welcome to advanced python class\n"
     ]
    }
   ],
   "source": [
    "# function copy\n",
    "wel = welcome();\n",
    "wel\n",
    "del welcome\n",
    "wel"
   ]
  },
  {
   "cell_type": "markdown",
   "metadata": {},
   "source": [
    "closures function"
   ]
  },
  {
   "cell_type": "code",
   "execution_count": 19,
   "metadata": {},
   "outputs": [],
   "source": [
    "def main_welcome():\n",
    "    msg = \"welcome\"\n",
    "    def sub_welcome():\n",
    "        print(msg)\n",
    "        print(\"welcome to advanced python course\")\n",
    "    return sub_welcome()\n"
   ]
  },
  {
   "cell_type": "code",
   "execution_count": 21,
   "metadata": {},
   "outputs": [
    {
     "name": "stdout",
     "output_type": "stream",
     "text": [
      "welcome\n",
      "welcome to advanced python course\n"
     ]
    }
   ],
   "source": [
    "main_welcome()"
   ]
  },
  {
   "cell_type": "code",
   "execution_count": 27,
   "metadata": {},
   "outputs": [],
   "source": [
    "def main_welcome(func):\n",
    "    msg = \"welcome\"\n",
    "    def sub_welcome():\n",
    "        print(\"welcome bro\")\n",
    "        func\n",
    "        print(\"welcome to advanced python course\")\n",
    "    return sub_welcome()\n"
   ]
  },
  {
   "cell_type": "code",
   "execution_count": 28,
   "metadata": {},
   "outputs": [
    {
     "name": "stdout",
     "output_type": "stream",
     "text": [
      "inbuild function of print in closures\n",
      "welcome bro\n",
      "welcome to advanced python course\n"
     ]
    }
   ],
   "source": [
    "main_welcome(print(\"inbuild function of print in closures\"))"
   ]
  },
  {
   "cell_type": "markdown",
   "metadata": {},
   "source": [
    "# Decorator"
   ]
  },
  {
   "cell_type": "code",
   "execution_count": 43,
   "metadata": {},
   "outputs": [],
   "source": [
    "def main_welcome(func):\n",
    "    msg = \"welcome\"\n",
    "    def sub_welcome():\n",
    "        print(\"welcome bro\")\n",
    "        func()\n",
    "        print(\"welcome to advanced python course\")\n",
    "    return sub_welcome()\n"
   ]
  },
  {
   "cell_type": "code",
   "execution_count": 40,
   "metadata": {},
   "outputs": [],
   "source": [
    "def course():\n",
    "    print(\"welcoeme to course\")"
   ]
  },
  {
   "cell_type": "code",
   "execution_count": 34,
   "metadata": {},
   "outputs": [
    {
     "name": "stdout",
     "output_type": "stream",
     "text": [
      "welcome bro\n",
      "welcoeme to course\n",
      "welcome to advanced python course\n"
     ]
    }
   ],
   "source": [
    "main_welcome(course)"
   ]
  },
  {
   "cell_type": "code",
   "execution_count": 44,
   "metadata": {},
   "outputs": [
    {
     "name": "stdout",
     "output_type": "stream",
     "text": [
      "welcome bro\n",
      "welcoeme to course\n",
      "welcome to advanced python course\n"
     ]
    }
   ],
   "source": [
    "@main_welcome\n",
    "def course():\n",
    "    print(\"welcoeme to course\")"
   ]
  },
  {
   "cell_type": "code",
   "execution_count": 50,
   "metadata": {},
   "outputs": [],
   "source": [
    "def my_decorater(func):\n",
    "    def wrapper():\n",
    "        print(\"something before\")\n",
    "        func()\n",
    "        print(\"someting after\")\n",
    "    return wrapper"
   ]
  },
  {
   "cell_type": "code",
   "execution_count": 49,
   "metadata": {},
   "outputs": [],
   "source": [
    "@my_decorater\n",
    "def say_hello():\n",
    "    print(\"hello\")"
   ]
  },
  {
   "cell_type": "code",
   "execution_count": 51,
   "metadata": {},
   "outputs": [
    {
     "name": "stdout",
     "output_type": "stream",
     "text": [
      "something before\n",
      "hello\n",
      "someting after\n"
     ]
    }
   ],
   "source": [
    "say_hello()"
   ]
  },
  {
   "cell_type": "code",
   "execution_count": null,
   "metadata": {},
   "outputs": [],
   "source": []
  }
 ],
 "metadata": {
  "kernelspec": {
   "display_name": "Python 3",
   "language": "python",
   "name": "python3"
  },
  "language_info": {
   "codemirror_mode": {
    "name": "ipython",
    "version": 3
   },
   "file_extension": ".py",
   "mimetype": "text/x-python",
   "name": "python",
   "nbconvert_exporter": "python",
   "pygments_lexer": "ipython3",
   "version": "3.10.16"
  }
 },
 "nbformat": 4,
 "nbformat_minor": 2
}
