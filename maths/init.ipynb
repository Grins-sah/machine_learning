{
 "cells": [
  {
   "cell_type": "code",
   "execution_count": 1,
   "metadata": {},
   "outputs": [],
   "source": [
    "import pandas as pd\n",
    "import numpy as np\n",
    "import seaborn as sns"
   ]
  },
  {
   "cell_type": "code",
   "execution_count": 3,
   "metadata": {},
   "outputs": [],
   "source": [
    "df = pd.DataFrame(data={\"x\":[2.5,7.5,12.5,17.5,22.5,27.5,32.5,37.5,42.5,47.5],\"A\":[2,6,8,8,15,18,12,11,9,4],\"b\":[3,5,7,9,12,16,11,5,6,2]})"
   ]
  },
  {
   "cell_type": "code",
   "execution_count": 10,
   "metadata": {},
   "outputs": [],
   "source": [
    "df['x2a'] = df['x']*df['A']*df['x']"
   ]
  },
  {
   "cell_type": "code",
   "execution_count": 11,
   "metadata": {},
   "outputs": [
    {
     "data": {
      "text/html": [
       "<div>\n",
       "<style scoped>\n",
       "    .dataframe tbody tr th:only-of-type {\n",
       "        vertical-align: middle;\n",
       "    }\n",
       "\n",
       "    .dataframe tbody tr th {\n",
       "        vertical-align: top;\n",
       "    }\n",
       "\n",
       "    .dataframe thead th {\n",
       "        text-align: right;\n",
       "    }\n",
       "</style>\n",
       "<table border=\"1\" class=\"dataframe\">\n",
       "  <thead>\n",
       "    <tr style=\"text-align: right;\">\n",
       "      <th></th>\n",
       "      <th>x</th>\n",
       "      <th>A</th>\n",
       "      <th>b</th>\n",
       "      <th>xa</th>\n",
       "      <th>xb</th>\n",
       "      <th>x2b</th>\n",
       "      <th>x2a</th>\n",
       "    </tr>\n",
       "  </thead>\n",
       "  <tbody>\n",
       "    <tr>\n",
       "      <th>0</th>\n",
       "      <td>2.5</td>\n",
       "      <td>2</td>\n",
       "      <td>3</td>\n",
       "      <td>5.0</td>\n",
       "      <td>7.5</td>\n",
       "      <td>18.75</td>\n",
       "      <td>12.50</td>\n",
       "    </tr>\n",
       "    <tr>\n",
       "      <th>1</th>\n",
       "      <td>7.5</td>\n",
       "      <td>6</td>\n",
       "      <td>5</td>\n",
       "      <td>45.0</td>\n",
       "      <td>37.5</td>\n",
       "      <td>281.25</td>\n",
       "      <td>337.50</td>\n",
       "    </tr>\n",
       "    <tr>\n",
       "      <th>2</th>\n",
       "      <td>12.5</td>\n",
       "      <td>8</td>\n",
       "      <td>7</td>\n",
       "      <td>100.0</td>\n",
       "      <td>87.5</td>\n",
       "      <td>1093.75</td>\n",
       "      <td>1250.00</td>\n",
       "    </tr>\n",
       "    <tr>\n",
       "      <th>3</th>\n",
       "      <td>17.5</td>\n",
       "      <td>8</td>\n",
       "      <td>9</td>\n",
       "      <td>140.0</td>\n",
       "      <td>157.5</td>\n",
       "      <td>2756.25</td>\n",
       "      <td>2450.00</td>\n",
       "    </tr>\n",
       "    <tr>\n",
       "      <th>4</th>\n",
       "      <td>22.5</td>\n",
       "      <td>15</td>\n",
       "      <td>12</td>\n",
       "      <td>337.5</td>\n",
       "      <td>270.0</td>\n",
       "      <td>6075.00</td>\n",
       "      <td>7593.75</td>\n",
       "    </tr>\n",
       "    <tr>\n",
       "      <th>5</th>\n",
       "      <td>27.5</td>\n",
       "      <td>18</td>\n",
       "      <td>16</td>\n",
       "      <td>495.0</td>\n",
       "      <td>440.0</td>\n",
       "      <td>12100.00</td>\n",
       "      <td>13612.50</td>\n",
       "    </tr>\n",
       "    <tr>\n",
       "      <th>6</th>\n",
       "      <td>32.5</td>\n",
       "      <td>12</td>\n",
       "      <td>11</td>\n",
       "      <td>390.0</td>\n",
       "      <td>357.5</td>\n",
       "      <td>11618.75</td>\n",
       "      <td>12675.00</td>\n",
       "    </tr>\n",
       "    <tr>\n",
       "      <th>7</th>\n",
       "      <td>37.5</td>\n",
       "      <td>11</td>\n",
       "      <td>5</td>\n",
       "      <td>412.5</td>\n",
       "      <td>187.5</td>\n",
       "      <td>7031.25</td>\n",
       "      <td>15468.75</td>\n",
       "    </tr>\n",
       "    <tr>\n",
       "      <th>8</th>\n",
       "      <td>42.5</td>\n",
       "      <td>9</td>\n",
       "      <td>6</td>\n",
       "      <td>382.5</td>\n",
       "      <td>255.0</td>\n",
       "      <td>10837.50</td>\n",
       "      <td>16256.25</td>\n",
       "    </tr>\n",
       "    <tr>\n",
       "      <th>9</th>\n",
       "      <td>47.5</td>\n",
       "      <td>4</td>\n",
       "      <td>2</td>\n",
       "      <td>190.0</td>\n",
       "      <td>95.0</td>\n",
       "      <td>4512.50</td>\n",
       "      <td>9025.00</td>\n",
       "    </tr>\n",
       "  </tbody>\n",
       "</table>\n",
       "</div>"
      ],
      "text/plain": [
       "      x   A   b     xa     xb       x2b       x2a\n",
       "0   2.5   2   3    5.0    7.5     18.75     12.50\n",
       "1   7.5   6   5   45.0   37.5    281.25    337.50\n",
       "2  12.5   8   7  100.0   87.5   1093.75   1250.00\n",
       "3  17.5   8   9  140.0  157.5   2756.25   2450.00\n",
       "4  22.5  15  12  337.5  270.0   6075.00   7593.75\n",
       "5  27.5  18  16  495.0  440.0  12100.00  13612.50\n",
       "6  32.5  12  11  390.0  357.5  11618.75  12675.00\n",
       "7  37.5  11   5  412.5  187.5   7031.25  15468.75\n",
       "8  42.5   9   6  382.5  255.0  10837.50  16256.25\n",
       "9  47.5   4   2  190.0   95.0   4512.50   9025.00"
      ]
     },
     "execution_count": 11,
     "metadata": {},
     "output_type": "execute_result"
    }
   ],
   "source": [
    "df"
   ]
  },
  {
   "cell_type": "code",
   "execution_count": 16,
   "metadata": {},
   "outputs": [
    {
     "data": {
      "text/plain": [
       "28.621322602683506"
      ]
     },
     "execution_count": 16,
     "metadata": {},
     "output_type": "execute_result"
    }
   ],
   "source": [
    "((sum(df['x2a'])/sum(df['A']))-(sum(df['xa'])/sum(df['A'])))**0.5"
   ]
  },
  {
   "cell_type": "code",
   "execution_count": 18,
   "metadata": {},
   "outputs": [
    {
     "data": {
      "text/plain": [
       "24.93421052631579"
      ]
     },
     "execution_count": 18,
     "metadata": {},
     "output_type": "execute_result"
    }
   ],
   "source": [
    "(sum(df['xb'])/sum(df['b']))"
   ]
  },
  {
   "cell_type": "code",
   "execution_count": 19,
   "metadata": {},
   "outputs": [],
   "source": [
    "df = pd.DataFrame(data={\"x\":[2,2.5,3,3.5,4,4.5,5],\"f\":[3,34,50,80,65,30,8]})"
   ]
  },
  {
   "cell_type": "code",
   "execution_count": 51,
   "metadata": {},
   "outputs": [
    {
     "data": {
      "text/html": [
       "<div>\n",
       "<style scoped>\n",
       "    .dataframe tbody tr th:only-of-type {\n",
       "        vertical-align: middle;\n",
       "    }\n",
       "\n",
       "    .dataframe tbody tr th {\n",
       "        vertical-align: top;\n",
       "    }\n",
       "\n",
       "    .dataframe thead th {\n",
       "        text-align: right;\n",
       "    }\n",
       "</style>\n",
       "<table border=\"1\" class=\"dataframe\">\n",
       "  <thead>\n",
       "    <tr style=\"text-align: right;\">\n",
       "      <th></th>\n",
       "      <th>x</th>\n",
       "      <th>f</th>\n",
       "      <th>u</th>\n",
       "      <th>fu</th>\n",
       "    </tr>\n",
       "  </thead>\n",
       "  <tbody>\n",
       "    <tr>\n",
       "      <th>0</th>\n",
       "      <td>2.0</td>\n",
       "      <td>3</td>\n",
       "      <td>-1.540741</td>\n",
       "      <td>-4.622222</td>\n",
       "    </tr>\n",
       "    <tr>\n",
       "      <th>1</th>\n",
       "      <td>2.5</td>\n",
       "      <td>34</td>\n",
       "      <td>-1.040741</td>\n",
       "      <td>-35.385185</td>\n",
       "    </tr>\n",
       "    <tr>\n",
       "      <th>2</th>\n",
       "      <td>3.0</td>\n",
       "      <td>50</td>\n",
       "      <td>-0.540741</td>\n",
       "      <td>-27.037037</td>\n",
       "    </tr>\n",
       "    <tr>\n",
       "      <th>3</th>\n",
       "      <td>3.5</td>\n",
       "      <td>80</td>\n",
       "      <td>-0.040741</td>\n",
       "      <td>-3.259259</td>\n",
       "    </tr>\n",
       "    <tr>\n",
       "      <th>4</th>\n",
       "      <td>4.0</td>\n",
       "      <td>65</td>\n",
       "      <td>0.459259</td>\n",
       "      <td>29.851852</td>\n",
       "    </tr>\n",
       "    <tr>\n",
       "      <th>5</th>\n",
       "      <td>4.5</td>\n",
       "      <td>30</td>\n",
       "      <td>0.959259</td>\n",
       "      <td>28.777778</td>\n",
       "    </tr>\n",
       "    <tr>\n",
       "      <th>6</th>\n",
       "      <td>5.0</td>\n",
       "      <td>8</td>\n",
       "      <td>1.459259</td>\n",
       "      <td>11.674074</td>\n",
       "    </tr>\n",
       "  </tbody>\n",
       "</table>\n",
       "</div>"
      ],
      "text/plain": [
       "     x   f         u         fu\n",
       "0  2.0   3 -1.540741  -4.622222\n",
       "1  2.5  34 -1.040741 -35.385185\n",
       "2  3.0  50 -0.540741 -27.037037\n",
       "3  3.5  80 -0.040741  -3.259259\n",
       "4  4.0  65  0.459259  29.851852\n",
       "5  4.5  30  0.959259  28.777778\n",
       "6  5.0   8  1.459259  11.674074"
      ]
     },
     "execution_count": 51,
     "metadata": {},
     "output_type": "execute_result"
    }
   ],
   "source": [
    "df"
   ]
  },
  {
   "cell_type": "code",
   "execution_count": 47,
   "metadata": {},
   "outputs": [],
   "source": [
    "xx = (sum(df['x']*df['f']))/sum(df['f'])"
   ]
  },
  {
   "cell_type": "code",
   "execution_count": 48,
   "metadata": {},
   "outputs": [],
   "source": [
    "df['u'] = df['x']-xx"
   ]
  },
  {
   "cell_type": "code",
   "execution_count": 50,
   "metadata": {},
   "outputs": [],
   "source": [
    "df['fu'] = df['f']*df['u']"
   ]
  },
  {
   "cell_type": "code",
   "execution_count": 52,
   "metadata": {},
   "outputs": [
    {
     "data": {
      "text/plain": [
       "-1.7763568394002505e-14"
      ]
     },
     "execution_count": 52,
     "metadata": {},
     "output_type": "execute_result"
    }
   ],
   "source": [
    "sum(df['fu'])"
   ]
  }
 ],
 "metadata": {
  "kernelspec": {
   "display_name": "Python 3",
   "language": "python",
   "name": "python3"
  },
  "language_info": {
   "codemirror_mode": {
    "name": "ipython",
    "version": 3
   },
   "file_extension": ".py",
   "mimetype": "text/x-python",
   "name": "python",
   "nbconvert_exporter": "python",
   "pygments_lexer": "ipython3",
   "version": "3.10.16"
  }
 },
 "nbformat": 4,
 "nbformat_minor": 2
}
