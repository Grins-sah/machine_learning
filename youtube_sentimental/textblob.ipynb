{
 "cells": [
  {
   "cell_type": "code",
   "execution_count": 1,
   "metadata": {},
   "outputs": [],
   "source": [
    "from textblob import TextBlob"
   ]
  },
  {
   "cell_type": "code",
   "execution_count": 48,
   "metadata": {},
   "outputs": [],
   "source": [
    "f = open(\"text.txt\", \"r\")\n",
    "data = f.read()\n",
    "f.close()"
   ]
  },
  {
   "cell_type": "code",
   "execution_count": 2,
   "metadata": {},
   "outputs": [],
   "source": [
    "text = \"\"\"Watch the full Valmiki Ramayan video series on Yashodeep Deodhar's YouTube Channel: http://youtube.com/c/21Notes\",\"What an EPISODE! Truly breathtaking and Soul Satisfying!!! ❤❤ Please bring him back for more such ethereal Podcasts Dear TRS! You Guys are killing on Indian YouTube! Trust me, with content as fire as this, you are SHINING!\",\"Thankyou so much , for this 4 part series. From a long time , i wanted to know about the story in Shri Valmiki Ramayan .\\n\\nJust wanted to tell and know the authenticity of this part of Ramayan .\\nIn the jungle , Ram ji told Sitaji that he has to do some leela, and he wanted Maa Sita to be safe , so he lit the fire, and asked MaaSita to go in it, and leave behind her chaaya. \\nSo Ravan abducted the chaaya of Maa Sita. \\nThen after the war ends, and Maa Sita is asked for agni pareeksha, the chaaya enters and burns and real Maa Sita comes out. \\nPlease tell me , is it true.\",\"How did Vibhishan cross the ocean and reach Ram's camp? 🤔🤔\",\"Namastey 🙏\\nFirst of all 🥇 congratulations 🎉 for such a wonderful podcast and thank you for inviting deodhar sir .....\\n\\nJust four episodes is too less what I felt about it....\\n\\nKindly make something like 10 episodes more details please 🙏 \\n\\nThank you for the ignition for my gnan kshudha..... \\n\\nLoved 🤩 😍 it very much \\nYe dil mange more.... \\n\\nThere is a question from my side please try to ask sir and answers it if it's possible..\\n\\n1) Kindly ask about details of Rameshwaram jyotirling given by valmiki ji if it is mentioned in it... \\nThank you for everything 🙏 ❤️\",\"Amazing ❤ Thank you Thank you Thank you for the entire series.. Felt the energy and truth.. huge respect for both of you.. ❤\",\"Ram is the embodiment of Dharma.\\n\\nजय श्री राम। 🙏🙏🙏\",\"Jay Shree ram\",\"What about Luv Kush Story? Seeta’s exile in forest when she was pregnant? She was asked for second agni pariksha to prove her purity again when luv Kush made to bring her to Ayodhya? We would like to listen this as well as it is written by Walmiki Rishi .🙏\",\"Yashodeep sir and Ami ganatra ma'am are the best people to listen to if you want to learn the reality of Ramayana.\\n\\nThis 4 parter was an absolute delight to listen to.❤\"\"\""
   ]
  },
  {
   "cell_type": "code",
   "execution_count": 49,
   "metadata": {},
   "outputs": [
    {
     "data": {
      "text/plain": [
       "'\\'ll ride steve if you let me do my stuny\",\"we need 24/7 steve stream😂😂\",\"hahahah\",\"This is the best fucking YT channel ever!😂😂😂\",\"Coldstart thousands of dollars ugly you don’t even care about\",\"This would be the best job ever. Im a ryan, and im also an operator\",\"F\",\"H😊\",\"❤❤❤\",\"How the hell do you know when the zoom in And when not to zoom in when you\\'re not holding the camera\",\"Every good YouTuber has A Beast loose somewhere\",\"diesle be thank full u have that bc u have a lambo a monster truck and jet engine airplane helicopter and tesla and ferrari\",\"hah\",\"Stave sold me fent\",\"happy new year gang\",\"0:05 😂😂😂😂\",\"The random sounds and mini clips are sooooooooooooooo funny\",\"😮\",\"The tri-state area in Tennessee? I use to live in Gallatin.. he must be close\",\"😂😂😂😂😂😂\",\"Adelardo 🐆🐅🐈🐈\\u200d⬛🏎️🦽🛴🚲💯\",\"Please hire me @whistlindiesel\",\"editor needs a raise\",\"😂😂 that one really got him 😂😂\",\"The thumbnail tho\",\"🎉🎉🎉🎉🎉🎉🎉🎉🎉🎉🎉🎉🎉🎉🎉🎉🎉\",\"I have a bull like steve\",\"i think this is my last night\",\"😂😂😂😂😂😂😂😂😂😂😂😂😂😂😂😮😮😮😮😮\",\"Approve.\",\"MU\",\"😊😊😊\",\"🎉🎉🎉🎉🎉🎉🎉🎉🎉🎉🎉🎉\",\"TESLA\",\"Cody you should get a mcLaren\",\"If cody respanst to this comment I\\'ll give Steve a friend bull\",\"Eladio Spur\",\"Love from bangladesh\",\"5:33 cicada AAAAAAAAA\",\"$10 a month that’s cheaper than my school lunch\",\"korn.mp3 had me\",\"most mems I have ever seen in my life\",\"Steve asked me if i wanted to buy an 8 ball\",\"Bruen Inlet\",\"Jonathan is very happy\",\"Banana\",\"Cody gotta be the funniest guy on you tube 😂\",\"Felix Stream\",\"The title sounds like you were gifted a Benjamin Netanyahu\",\"Murl Centers\",\"Damn, Wilson fell off?\",\"reel eztayt\",\"Steve is currently on top of the nashville at&t tower and is on a rampage\",\"Steve told me hes banned in all countries except Antarctica\",\"fw that “So What” type music\",\"7:53 the secret was jet engine merrygoround\",\"Steve vs. Grille\",\"Construction part😂😂😂😂😂. LOL\",\"Steve sold me heroine, cocain, meth, fentanyl, HTC, weed, and a lot of testosterone.\",\"i lowkey want these type of videos all the time lol this shit was hilarious\",\"Go Vegan\",\"🇷🇺\",\"4:55 DAYUM\",\"Too many little memes in this one.\",\"Why isn\\'t this dude gifting his fans who made them that much money....\\\\nI mean skin tight pants and barley there shorts are a start...\",\"What happened to the cow?\",\"7:53 I think I saw what I saw, or maybe we\\'re just going round and round in a circle 😂.\",\"I think all the steak jokes gave it away that it was a cow\",\"I was dying laughing watching this 😂😂😂😂😂\",\"Can we build an electric car 🚗🚗 the tassler 😁\",\"Love u whistlin\",\"the fkin korn.mp3 has got me dieing looooool\",\"woah this dude is so underrated! He should run a theme park with jet engines mounted\",\"Zombies\",\"Whistelin deisel is like if vlog creations was a cowboy car guy\",\"I thought Steve was going to be a siberian tiger\",\"99% tour of WD’s property, 1% Steve. I’m disappointed. ☹️\",\"Yeah , that\\'s a pool that\\'s not a dinosaur\",\"\",\"Your editor has good sense of humor\",\"Cody telling a cow to see if the grass is greener on the other side XD\",\"I like Steve\",\"Korn.mp3 lmfao fuck yeah\\\\n\\\\nBack in the day the file would have to be named properly. specific naming structures as artist-song. The directory would be the album name year etc . Then before the extension (.mp3) we would type the group who copied the album to share. Also adding the bitrate of the files and a log. That was the scene, and it’s still here today on private trackers. This is what I remember doing in my teens sharing music online with others on irc. Running a file sharing server for music on irc, using irc script. We go for higher bitrates. No real player g2 style bs or wmv bs. Too much compression. This is before Napster and torrents. Just like you say quality over quantity. \\\\n\\\\nSource: me, data hoarder, file sharing enthusiast.\\\\n\\\\nLet’s not forget when Metallica threw a bitch fit over file sharing. Meh. They became memes that we’d used to see if you r browser had adobe flash. Lmfao. \\\\n\\\\nMetallica eventually had to change their mind and that’s good. Pirate all day\",\"Big fan of Steve\",\"still waiting for cybertruck durability test\",\"steve e weavy\",\"i thought he got a mountain lion\",\"Where does he get all this money from\",\"Finland mentioned 😼👍\",\"accidentally laughed out in class\",\"I had to do a double take on the vending machine😂\",\"We are going to get 2024 president before we get cyber truck video\",\"let me come build steve a SICK HOME “i build steve houses”\",\"Where\\'s the cow\",\"Steve said welcome to the running of the fools😂\",\"i love your videos you are so funny and intertaning i can watch your videos all day long oh and please help me steve thinks i am talking bad about you right now so nobody tell steve!\",\"If he catches you 4:25\",\"Where is dudes chin ?\",\"My name is Steven\",\"I 1000% expected an ostrich or an emu\"'"
      ]
     },
     "execution_count": 49,
     "metadata": {},
     "output_type": "execute_result"
    }
   ],
   "source": [
    "blob = TextBlob(data)\n",
    "ans = {}\n",
    "data"
   ]
  },
  {
   "cell_type": "code",
   "execution_count": 66,
   "metadata": {},
   "outputs": [
    {
     "name": "stdout",
     "output_type": "stream",
     "text": [
      "{'0.2': 1, '0.1': 1, '0.6': 1, '0.0': 1, '0.8': 1, '0.3': 1, '-0.1': 1, '-0.2': 1, '-0.8': 1, '0.4': 1, '0.7': 1, 0.2: 55, 0.1: 22, 0.6: 11, 0.0: 187, 0.8: 11, 0.3: 11, -0.1: 33, -0.2: 11, -0.8: 11, 0.4: 11, 0.7: 11}\n"
     ]
    }
   ],
   "source": [
    "for sentence in blob.sentences:\n",
    "    res = sentence.sentiment.polarity\n",
    "    res = round(res,1)\n",
    "    if(ans.get(res)):\n",
    "        ans[res]+=1\n",
    "    else:\n",
    "        ans[res]=1\n",
    "print(ans)"
   ]
  },
  {
   "cell_type": "code",
   "execution_count": 68,
   "metadata": {},
   "outputs": [],
   "source": [
    "import pandas as pd"
   ]
  },
  {
   "cell_type": "code",
   "execution_count": 73,
   "metadata": {},
   "outputs": [
    {
     "data": {
      "text/html": [
       "<div>\n",
       "<style scoped>\n",
       "    .dataframe tbody tr th:only-of-type {\n",
       "        vertical-align: middle;\n",
       "    }\n",
       "\n",
       "    .dataframe tbody tr th {\n",
       "        vertical-align: top;\n",
       "    }\n",
       "\n",
       "    .dataframe thead th {\n",
       "        text-align: right;\n",
       "    }\n",
       "</style>\n",
       "<table border=\"1\" class=\"dataframe\">\n",
       "  <thead>\n",
       "    <tr style=\"text-align: right;\">\n",
       "      <th></th>\n",
       "      <th>grns</th>\n",
       "      <th>jn</th>\n",
       "    </tr>\n",
       "  </thead>\n",
       "  <tbody>\n",
       "    <tr>\n",
       "      <th>0</th>\n",
       "      <td>1</td>\n",
       "      <td>1</td>\n",
       "    </tr>\n",
       "    <tr>\n",
       "      <th>1</th>\n",
       "      <td>2</td>\n",
       "      <td>2</td>\n",
       "    </tr>\n",
       "    <tr>\n",
       "      <th>2</th>\n",
       "      <td>3</td>\n",
       "      <td>3</td>\n",
       "    </tr>\n",
       "  </tbody>\n",
       "</table>\n",
       "</div>"
      ],
      "text/plain": [
       "   grns  jn\n",
       "0     1   1\n",
       "1     2   2\n",
       "2     3   3"
      ]
     },
     "execution_count": 73,
     "metadata": {},
     "output_type": "execute_result"
    }
   ],
   "source": [
    "data = {\n",
    "    \"grns\":[1,2,3],\n",
    "    \"jn\":[1,2,3]\n",
    "}\n",
    "df = pd.DataFrame(data)\n",
    "df"
   ]
  },
  {
   "cell_type": "code",
   "execution_count": 52,
   "metadata": {},
   "outputs": [],
   "source": [
    "import matplotlib.pyplot as plt"
   ]
  },
  {
   "cell_type": "code",
   "execution_count": 74,
   "metadata": {},
   "outputs": [
    {
     "data": {
      "image/png": "[encoded data removed]",
      "text/plain": [
       "<Figure size 640x480 with 1 Axes>"
      ]
     },
     "metadata": {},
     "output_type": "display_data"
    }
   ],
   "source": [
    "names = list(ans.keys())\n",
    "values = list(ans.values())\n",
    "plt.bar(range(len(ans)), values, tick_label=names)\n",
    "plt.show()\n"
   ]
  }
 ],
 "metadata": {
  "kernelspec": {
   "display_name": "Python 3",
   "language": "python",
   "name": "python3"
  },
  "language_info": {
   "codemirror_mode": {
    "name": "ipython",
    "version": 3
   },
   "file_extension": ".py",
   "mimetype": "text/x-python",
   "name": "python",
   "nbconvert_exporter": "python",
   "pygments_lexer": "ipython3",
   "version": "3.10.16"
  }
 },
 "nbformat": 4,
 "nbformat_minor": 2
}
